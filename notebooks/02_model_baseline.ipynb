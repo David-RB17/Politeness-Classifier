{
 "cells": [
  {
   "cell_type": "markdown",
   "id": "3d840ae5",
   "metadata": {},
   "source": [
    "# Japanese Politeness Classifier — Model Training Notebook 1st version\n",
    "This notebook contains the full training process for fine-tuning a Japanese BERT model to classify sentences based on their level of politeness: casual, neutral, or keigo."
   ]
  },
  {
   "cell_type": "markdown",
   "id": "b644eabf",
   "metadata": {},
   "source": [
    "## 1. Setup & Imports\n",
    "Import required libraries including Hugging Face Transformers, Datasets, PyTorch, and other utilities."
   ]
  },
  {
   "cell_type": "code",
   "execution_count": 15,
   "id": "1dec78e6",
   "metadata": {},
   "outputs": [],
   "source": [
    "import pandas as pd\n",
    "import numpy as np\n",
    "import torch\n",
    "import matplotlib.pyplot as plt\n",
    "from sklearn.model_selection import train_test_split"
   ]
  },
  {
   "cell_type": "code",
   "execution_count": 16,
   "id": "e4026140",
   "metadata": {},
   "outputs": [],
   "source": [
    "from transformers import (\n",
    "    BertTokenizer,\n",
    "    BertForSequenceClassification,\n",
    "    TrainingArguments,\n",
    "    Trainer,\n",
    "    DataCollatorWithPadding,\n",
    "    AutoTokenizer,\n",
    "    pipeline\n",
    ")\n",
    "from datasets import Dataset\n",
    "import evaluate"
   ]
  },
  {
   "cell_type": "code",
   "execution_count": 17,
   "id": "6fe9a3f3",
   "metadata": {},
   "outputs": [],
   "source": [
    "from sklearn.metrics import accuracy_score, precision_recall_fscore_support"
   ]
  },
  {
   "cell_type": "code",
   "execution_count": 18,
   "id": "798b9968",
   "metadata": {},
   "outputs": [],
   "source": [
    "import os\n",
    "import random\n",
    "import warnings\n",
    "from dotenv import load_dotenv\n",
    "warnings.filterwarnings(\"ignore\")"
   ]
  },
  {
   "cell_type": "markdown",
   "id": "36c0c17a",
   "metadata": {},
   "source": [
    "## 2. Load and Inspect Preprocessed Data\n",
    "Load the cleaned CSV file created in the preprocessing phase. Make sure the dataset contains the sentence and label columns."
   ]
  },
  {
   "cell_type": "code",
   "execution_count": 19,
   "id": "a31b2cc2",
   "metadata": {},
   "outputs": [
    {
     "data": {
      "text/html": [
       "<div>\n",
       "<style scoped>\n",
       "    .dataframe tbody tr th:only-of-type {\n",
       "        vertical-align: middle;\n",
       "    }\n",
       "\n",
       "    .dataframe tbody tr th {\n",
       "        vertical-align: top;\n",
       "    }\n",
       "\n",
       "    .dataframe thead th {\n",
       "        text-align: right;\n",
       "    }\n",
       "</style>\n",
       "<table border=\"1\" class=\"dataframe\">\n",
       "  <thead>\n",
       "    <tr style=\"text-align: right;\">\n",
       "      <th></th>\n",
       "      <th>text</th>\n",
       "      <th>label</th>\n",
       "      <th>length</th>\n",
       "    </tr>\n",
       "  </thead>\n",
       "  <tbody>\n",
       "    <tr>\n",
       "      <th>0</th>\n",
       "      <td>おい ムロ ちょっと来てくれ！</td>\n",
       "      <td>0</td>\n",
       "      <td>15</td>\n",
       "    </tr>\n",
       "    <tr>\n",
       "      <th>1</th>\n",
       "      <td>何か出てきやがった</td>\n",
       "      <td>0</td>\n",
       "      <td>9</td>\n",
       "    </tr>\n",
       "    <tr>\n",
       "      <th>2</th>\n",
       "      <td>あ…</td>\n",
       "      <td>0</td>\n",
       "      <td>2</td>\n",
       "    </tr>\n",
       "  </tbody>\n",
       "</table>\n",
       "</div>"
      ],
      "text/plain": [
       "              text  label  length\n",
       "0  おい ムロ ちょっと来てくれ！      0      15\n",
       "1        何か出てきやがった      0       9\n",
       "2               あ…      0       2"
      ]
     },
     "execution_count": 19,
     "metadata": {},
     "output_type": "execute_result"
    }
   ],
   "source": [
    "df = pd.read_csv(r\"G:\\Python Projects\\politeness-classifier-jp\\data\\processed\\BunnyGirl800-Preprocessed-binary.csv\")\n",
    "df.head(3)"
   ]
  },
  {
   "cell_type": "markdown",
   "id": "f787a56b",
   "metadata": {},
   "source": [
    "## 3. Prepare Dataset for Model Input\n",
    "Tokenize the Japanese text using a tokenizer (e.g., BERT tokenizer pre-trained on Japanese). Convert the data into a Hugging Face Dataset object suitable for training."
   ]
  },
  {
   "cell_type": "code",
   "execution_count": 20,
   "id": "51306e09",
   "metadata": {},
   "outputs": [],
   "source": [
    "load_dotenv()\n",
    "token = os.getenv(\"HUGGINGFACE-TOKEN\")\n",
    "tokenizer = AutoTokenizer.from_pretrained(\"cl-tohoku/bert-base-japanese\", token=token)"
   ]
  },
  {
   "cell_type": "code",
   "execution_count": 21,
   "id": "1e799f88",
   "metadata": {},
   "outputs": [],
   "source": [
    "# Split the DataFrame\n",
    "df_train, df_test = train_test_split(df, test_size=0.2, random_state=123, stratify=df[\"label\"])\n",
    "\n",
    "# Convert to Hugging Face datasets\n",
    "train_dataset = Dataset.from_pandas(df_train.reset_index(drop=True))\n",
    "test_dataset = Dataset.from_pandas(df_test.reset_index(drop=True))"
   ]
  },
  {
   "cell_type": "code",
   "execution_count": 22,
   "id": "84bbe8a6",
   "metadata": {},
   "outputs": [],
   "source": [
    "def preprocess_function(sentences):\n",
    "    return tokenizer(sentences[\"text\"], padding=True, truncation=True)"
   ]
  },
  {
   "cell_type": "code",
   "execution_count": 23,
   "id": "f988ce9b",
   "metadata": {},
   "outputs": [
    {
     "name": "stderr",
     "output_type": "stream",
     "text": [
      "Map: 100%|██████████| 645/645 [00:00<00:00, 6142.93 examples/s]\n",
      "Map: 100%|██████████| 162/162 [00:00<00:00, 5684.29 examples/s]\n"
     ]
    }
   ],
   "source": [
    "# Apply the tokenizer to the datasets\n",
    "train_dataset = train_dataset.map(preprocess_function, batched=True)\n",
    "test_dataset = test_dataset.map(preprocess_function, batched=True)"
   ]
  },
  {
   "cell_type": "markdown",
   "id": "3d128a88",
   "metadata": {},
   "source": [
    "## 4. Define Model Architecture\n",
    "Load a pre-trained Japanese BERT model with a classification head for 3 classes (casual, neutral, polite)."
   ]
  },
  {
   "cell_type": "code",
   "execution_count": 24,
   "id": "17911208",
   "metadata": {},
   "outputs": [
    {
     "name": "stderr",
     "output_type": "stream",
     "text": [
      "Some weights of BertForSequenceClassification were not initialized from the model checkpoint at cl-tohoku/bert-base-japanese and are newly initialized: ['classifier.bias', 'classifier.weight']\n",
      "You should probably TRAIN this model on a down-stream task to be able to use it for predictions and inference.\n"
     ]
    }
   ],
   "source": [
    "model = BertForSequenceClassification.from_pretrained(\"cl-tohoku/bert-base-japanese\", num_labels=2)"
   ]
  },
  {
   "cell_type": "markdown",
   "id": "a2b4e689",
   "metadata": {},
   "source": [
    "## 5. Training Configuration\n",
    "Define training arguments like batch size, learning rate, epochs, evaluation strategy, logging, and checkpointing."
   ]
  },
  {
   "cell_type": "code",
   "execution_count": 25,
   "id": "cff2b130",
   "metadata": {},
   "outputs": [],
   "source": [
    "from transformers import DataCollatorWithPadding\n",
    "\n",
    "data_collator = DataCollatorWithPadding(tokenizer=tokenizer)"
   ]
  },
  {
   "cell_type": "code",
   "execution_count": 26,
   "id": "626931b2",
   "metadata": {},
   "outputs": [],
   "source": [
    "from transformers import TrainingArguments\n",
    "\n",
    "training_args = TrainingArguments(\n",
    "    output_dir=r\"G:\\Python Projects\\politeness-classifier-jp\\models\",          # where to save model\n",
    "    eval_strategy=\"epoch\",     # evaluate every epoch\n",
    "    learning_rate=2e-5,              # small LR for fine-tuning\n",
    "    per_device_train_batch_size=8,\n",
    "    per_device_eval_batch_size=8,\n",
    "    num_train_epochs=4,\n",
    "    weight_decay=0.01,\n",
    "    logging_dir=\"./logs\",\n",
    "    logging_steps=10,\n",
    "    save_strategy=\"epoch\",\n",
    "    load_best_model_at_end=True,\n",
    "    metric_for_best_model=\"eval_loss\"\n",
    ")"
   ]
  },
  {
   "cell_type": "code",
   "execution_count": 27,
   "id": "6f1e1c0b",
   "metadata": {},
   "outputs": [],
   "source": [
    "from transformers import Trainer\n",
    "from transformers import EarlyStoppingCallback\n",
    "\n",
    "trainer = Trainer(\n",
    "    model=model,\n",
    "    args=training_args,\n",
    "    train_dataset=train_dataset,\n",
    "    eval_dataset=test_dataset,\n",
    "    tokenizer=tokenizer,\n",
    "    data_collator=data_collator\n",
    ")"
   ]
  },
  {
   "cell_type": "markdown",
   "id": "022e2505",
   "metadata": {},
   "source": [
    "## 6. Train the Model\n",
    "Use the Hugging Face Trainer API to train the model on the prepared dataset."
   ]
  },
  {
   "cell_type": "code",
   "execution_count": 28,
   "id": "b015f948",
   "metadata": {},
   "outputs": [
    {
     "data": {
      "text/html": [
       "\n",
       "    <div>\n",
       "      \n",
       "      <progress value='324' max='324' style='width:300px; height:20px; vertical-align: middle;'></progress>\n",
       "      [324/324 04:54, Epoch 4/4]\n",
       "    </div>\n",
       "    <table border=\"1\" class=\"dataframe\">\n",
       "  <thead>\n",
       " <tr style=\"text-align: left;\">\n",
       "      <th>Epoch</th>\n",
       "      <th>Training Loss</th>\n",
       "      <th>Validation Loss</th>\n",
       "    </tr>\n",
       "  </thead>\n",
       "  <tbody>\n",
       "    <tr>\n",
       "      <td>1</td>\n",
       "      <td>0.112200</td>\n",
       "      <td>0.198949</td>\n",
       "    </tr>\n",
       "    <tr>\n",
       "      <td>2</td>\n",
       "      <td>0.127800</td>\n",
       "      <td>0.240335</td>\n",
       "    </tr>\n",
       "    <tr>\n",
       "      <td>3</td>\n",
       "      <td>0.058300</td>\n",
       "      <td>0.182705</td>\n",
       "    </tr>\n",
       "    <tr>\n",
       "      <td>4</td>\n",
       "      <td>0.102200</td>\n",
       "      <td>0.180564</td>\n",
       "    </tr>\n",
       "  </tbody>\n",
       "</table><p>"
      ],
      "text/plain": [
       "<IPython.core.display.HTML object>"
      ]
     },
     "metadata": {},
     "output_type": "display_data"
    },
    {
     "data": {
      "text/plain": [
       "TrainOutput(global_step=324, training_loss=0.10372026627423403, metrics={'train_runtime': 295.136, 'train_samples_per_second': 8.742, 'train_steps_per_second': 1.098, 'total_flos': 29168327152800.0, 'train_loss': 0.10372026627423403, 'epoch': 4.0})"
      ]
     },
     "execution_count": 28,
     "metadata": {},
     "output_type": "execute_result"
    }
   ],
   "source": [
    "trainer.train()"
   ]
  },
  {
   "cell_type": "markdown",
   "id": "7c60dda8",
   "metadata": {},
   "source": [
    "## 7. Evaluate the Model\n",
    "Visualize metrics like accuracy, loss, precision, recall, or F1-score on the validation set."
   ]
  },
  {
   "cell_type": "code",
   "execution_count": 29,
   "id": "cf0723b8",
   "metadata": {},
   "outputs": [
    {
     "data": {
      "text/html": [],
      "text/plain": [
       "<IPython.core.display.HTML object>"
      ]
     },
     "metadata": {},
     "output_type": "display_data"
    },
    {
     "name": "stdout",
     "output_type": "stream",
     "text": [
      "{'eval_loss': 0.18056374788284302, 'eval_runtime': 3.1955, 'eval_samples_per_second': 50.696, 'eval_steps_per_second': 6.572, 'epoch': 4.0}\n"
     ]
    }
   ],
   "source": [
    "metrics = trainer.evaluate()\n",
    "print(metrics)"
   ]
  },
  {
   "cell_type": "code",
   "execution_count": 30,
   "id": "dde579f6",
   "metadata": {},
   "outputs": [
    {
     "name": "stdout",
     "output_type": "stream",
     "text": [
      "              precision    recall  f1-score   support\n",
      "\n",
      "           0       0.94      0.99      0.96        91\n",
      "           1       0.98      0.92      0.95        71\n",
      "\n",
      "    accuracy                           0.96       162\n",
      "   macro avg       0.96      0.95      0.96       162\n",
      "weighted avg       0.96      0.96      0.96       162\n",
      "\n"
     ]
    }
   ],
   "source": [
    "from sklearn.metrics import classification_report\n",
    "pred_output = trainer.predict(test_dataset)\n",
    "preds = np.argmax(pred_output.predictions, axis=1)\n",
    "labels = pred_output.label_ids\n",
    "print(classification_report(labels, preds))"
   ]
  },
  {
   "cell_type": "markdown",
   "id": "ce9ef20b",
   "metadata": {},
   "source": [
    "## Model Results Summary\n",
    "\n",
    "After fine-tuning a Japanese BERT model (`cl-tohoku/bert-base-japanese`) on a binary classification task — distinguishing between **informal (0)** and **formal (1)** speech — we achieved the following evaluation metrics:\n",
    "\n",
    "| Metric      | Informal (0) | Formal (1) |\n",
    "|-------------|--------------|------------|\n",
    "| Precision   | 0.94         | 0.98       |\n",
    "| Recall      | 0.99         | 0.92       |\n",
    "| F1-Score    | 0.96         | 0.95       |\n",
    "| **Accuracy**| **0.96**     |            |\n",
    "\n",
    "These results demonstrate strong performance in classifying tone and politeness, with particularly high precision for the formal class.\n",
    "\n",
    "---\n",
    "\n",
    "## Interpretation\n",
    "\n",
    "- The model performs well across both classes and shows strong generalization.\n",
    "- Slightly lower recall on formal speech suggests that **some formal sentences are misclassified as informal**, likely due to shorter or ambiguous phrasing.\n",
    "\n",
    "---\n",
    "\n",
    "## Limitations\n",
    "\n",
    "- **Context matters:** Very short inputs (e.g., 「はい」 or 「うん」) may be misclassified due to lack of syntactic or semantic context.\n",
    "- **Confidence thresholds:** The model outputs logits for both classes, and always picks the more likely one — even if it’s only slightly higher. For improved reliability, especially in production, applying a **confidence threshold** is recommended to detect low-certainty predictions.\n",
    "- **Ambiguity:** Speech that blends casual and formal elements can challenge the model, particularly if similar examples were underrepresented in training data.\n",
    "\n",
    "---\n",
    "\n",
    "## Next Steps\n",
    "\n",
    "- Conduct qualitative error analysis on misclassified samples\n",
    "- Optionally introduce a third class for \"ambiguous\" or apply a **minimum confidence threshold**\n",
    "- Use sentence-level context in inference for better reliability"
   ]
  },
  {
   "cell_type": "markdown",
   "id": "be32b5f9",
   "metadata": {},
   "source": [
    "## 8. Save the Trained Model\n",
    "Save the model and tokenizer locally (e.g., in models/politeness-bert/) so you can later load it for inference."
   ]
  },
  {
   "cell_type": "code",
   "execution_count": 31,
   "id": "e474d7d0",
   "metadata": {},
   "outputs": [
    {
     "data": {
      "text/plain": [
       "('G:\\\\Python Projects\\\\politeness-classifier-jp\\\\models\\\\bert-finetunedv2\\\\tokenizer_config.json',\n",
       " 'G:\\\\Python Projects\\\\politeness-classifier-jp\\\\models\\\\bert-finetunedv2\\\\special_tokens_map.json',\n",
       " 'G:\\\\Python Projects\\\\politeness-classifier-jp\\\\models\\\\bert-finetunedv2\\\\vocab.txt',\n",
       " 'G:\\\\Python Projects\\\\politeness-classifier-jp\\\\models\\\\bert-finetunedv2\\\\added_tokens.json')"
      ]
     },
     "execution_count": 31,
     "metadata": {},
     "output_type": "execute_result"
    }
   ],
   "source": [
    "trainer.save_model(r\"G:\\Python Projects\\politeness-classifier-jp\\models\\bert-finetunedv2\")\n",
    "tokenizer.save_pretrained(r\"G:\\Python Projects\\politeness-classifier-jp\\models\\bert-finetunedv2\")"
   ]
  },
  {
   "cell_type": "code",
   "execution_count": 32,
   "id": "2819315a",
   "metadata": {},
   "outputs": [],
   "source": [
    "import json\n",
    "\n",
    "output_dir = r\"G:\\Python Projects\\politeness-classifier-jp\\models\\bert-finetunedv2\"\n",
    "os.makedirs(output_dir, exist_ok=True)\n",
    "\n",
    "with open(os.path.join(output_dir, \"metrics.json\"), \"w\") as f:\n",
    "    json.dump(metrics, f, indent=4)"
   ]
  },
  {
   "cell_type": "code",
   "execution_count": 33,
   "id": "072919a3",
   "metadata": {},
   "outputs": [],
   "source": [
    "from sklearn.metrics import classification_report, confusion_matrix, ConfusionMatrixDisplay\n",
    "\n",
    "def save_results(output_dir, metrics, predictions, labels, class_names=None):\n",
    "    os.makedirs(output_dir, exist_ok=True)\n",
    "\n",
    "    # 1. Save metrics.json\n",
    "    with open(os.path.join(output_dir, \"metrics.json\"), \"w\") as f:\n",
    "        json.dump(metrics, f, indent=4)\n",
    "\n",
    "    # 2. Save classification_report.txt\n",
    "    report = classification_report(labels, predictions, target_names=class_names, digits=4)\n",
    "    with open(os.path.join(output_dir, \"classification_report.txt\"), \"w\") as f:\n",
    "        f.write(report)\n",
    "\n",
    "    # 3. Save confusion_matrix.png\n",
    "    cm = confusion_matrix(labels, predictions)\n",
    "    disp = ConfusionMatrixDisplay(confusion_matrix=cm, display_labels=class_names)\n",
    "    fig, ax = plt.subplots(figsize=(6, 6))\n",
    "    disp.plot(ax=ax, cmap=\"Blues\", values_format=\"d\")\n",
    "    plt.title(\"Confusion Matrix\")\n",
    "    plt.savefig(os.path.join(output_dir, \"confusion_matrix.png\"))\n",
    "    plt.close()\n",
    "\n",
    "    print(f\"✅ Results saved in {output_dir}\")"
   ]
  },
  {
   "cell_type": "code",
   "execution_count": 35,
   "id": "460fbc17",
   "metadata": {},
   "outputs": [
    {
     "data": {
      "text/html": [],
      "text/plain": [
       "<IPython.core.display.HTML object>"
      ]
     },
     "metadata": {},
     "output_type": "display_data"
    },
    {
     "name": "stdout",
     "output_type": "stream",
     "text": [
      "✅ Results saved in G:\\Python Projects\\politeness-classifier-jp\\models\\bert-finetunedv2\n"
     ]
    }
   ],
   "source": [
    "# Step 1: Evaluate and predict\n",
    "metrics = trainer.evaluate()\n",
    "pred_output = trainer.predict(test_dataset)\n",
    "preds = np.argmax(pred_output.predictions, axis=1)\n",
    "labels = pred_output.label_ids\n",
    "\n",
    "# Step 2: Save everything\n",
    "save_results(\n",
    "    output_dir=output_dir,\n",
    "    metrics=metrics,\n",
    "    predictions=preds,\n",
    "    labels=labels,\n",
    "    class_names=[\"Class 0\", \"Class 1\"]  # or None\n",
    ")"
   ]
  },
  {
   "cell_type": "markdown",
   "id": "658b4e9e",
   "metadata": {},
   "source": [
    "## 9. Test Inference on New Sentences\n",
    "Try out the model on your own Japanese inputs using the pipeline or manual tokenization."
   ]
  },
  {
   "cell_type": "code",
   "execution_count": 44,
   "id": "95e4771e",
   "metadata": {},
   "outputs": [
    {
     "name": "stdout",
     "output_type": "stream",
     "text": [
      "それマジっすか？信じられないんですけど is **formal** (confidence: 1.00)\n"
     ]
    }
   ],
   "source": [
    "import torch\n",
    "from torch.nn.functional import softmax\n",
    "\n",
    "# Create a function to predict new japanese sentences and add model confidence\n",
    "def predict_formality(text, model, tokenizer, threshold=0.5):\n",
    "    # Tokenize input\n",
    "    inputs = tokenizer(text, return_tensors=\"pt\", truncation=True, padding=True)\n",
    "    \n",
    "    # Get logits from model\n",
    "    with torch.no_grad():\n",
    "        outputs = model(**inputs)\n",
    "        logits = outputs.logits\n",
    "\n",
    "    # Convert logits to probabilities\n",
    "    probs = softmax(logits, dim=-1)\n",
    "    confidence, pred = torch.max(probs, dim=1)\n",
    "\n",
    "    label_map = {0: \"informal\", 1: \"formal\"}\n",
    "    predicted_label = label_map[pred.item()]\n",
    "    \n",
    "    if confidence.item() >= threshold:\n",
    "        return f\"{text} is **{predicted_label}** (confidence: {confidence.item():.2f})\"\n",
    "    else:\n",
    "        return f\"Not confident enough to classify — confidence: {confidence.item():.2f}\"\n",
    "\n",
    "# Example use\n",
    "text = \"それマジっすか？信じられないんですけど\"\n",
    "print(predict_formality(text, model, tokenizer))"
   ]
  },
  {
   "cell_type": "code",
   "execution_count": null,
   "id": "d0237569",
   "metadata": {},
   "outputs": [],
   "source": []
  }
 ],
 "metadata": {
  "kernelspec": {
   "display_name": ".venv",
   "language": "python",
   "name": "python3"
  },
  "language_info": {
   "codemirror_mode": {
    "name": "ipython",
    "version": 3
   },
   "file_extension": ".py",
   "mimetype": "text/x-python",
   "name": "python",
   "nbconvert_exporter": "python",
   "pygments_lexer": "ipython3",
   "version": "3.11.9"
  }
 },
 "nbformat": 4,
 "nbformat_minor": 5
}
